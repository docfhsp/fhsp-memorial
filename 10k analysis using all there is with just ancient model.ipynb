{
  "nbformat": 4,
  "nbformat_minor": 0,
  "metadata": {
    "colab": {
      "provenance": [],
      "include_colab_link": true
    },
    "kernelspec": {
      "name": "python3",
      "display_name": "Python 3"
    },
    "language_info": {
      "name": "python"
    }
  },
  "cells": [
    {
      "cell_type": "markdown",
      "metadata": {
        "id": "view-in-github",
        "colab_type": "text"
      },
      "source": [
        "<a href=\"https://colab.research.google.com/github/docfhsp/fhsp-memorial/blob/main/10k%20analysis%20using%20all%20there%20is%20with%20just%20ancient%20model.ipynb\" target=\"_parent\"><img src=\"https://colab.research.google.com/assets/colab-badge.svg\" alt=\"Open In Colab\"/></a>"
      ]
    },
    {
      "cell_type": "markdown",
      "source": [
        "Install relevant libraries"
      ],
      "metadata": {
        "id": "aGXJCQgsA2-6"
      }
    },
    {
      "cell_type": "code",
      "execution_count": null,
      "metadata": {
        "id": "ztI-Zyk5ASW1",
        "colab": {
          "base_uri": "https://localhost:8080/"
        },
        "outputId": "e667b3c1-c4cb-408f-ba10-c4609b491ed2"
      },
      "outputs": [
        {
          "output_type": "stream",
          "name": "stdout",
          "text": [
            "Requirement already satisfied: google-cloud-aiplatform==1.38.0 in /usr/local/lib/python3.10/dist-packages (1.38.0)\n",
            "Requirement already satisfied: google-api-core[grpc]!=2.0.*,!=2.1.*,!=2.2.*,!=2.3.*,!=2.4.*,!=2.5.*,!=2.6.*,!=2.7.*,<3.0.0dev,>=1.32.0 in /usr/local/lib/python3.10/dist-packages (from google-cloud-aiplatform==1.38.0) (2.11.1)\n",
            "Requirement already satisfied: proto-plus<2.0.0dev,>=1.22.0 in /usr/local/lib/python3.10/dist-packages (from google-cloud-aiplatform==1.38.0) (1.22.3)\n",
            "Requirement already satisfied: protobuf!=3.20.0,!=3.20.1,!=4.21.0,!=4.21.1,!=4.21.2,!=4.21.3,!=4.21.4,!=4.21.5,<5.0.0dev,>=3.19.5 in /usr/local/lib/python3.10/dist-packages (from google-cloud-aiplatform==1.38.0) (3.20.3)\n",
            "Requirement already satisfied: packaging>=14.3 in /usr/local/lib/python3.10/dist-packages (from google-cloud-aiplatform==1.38.0) (23.2)\n",
            "Requirement already satisfied: google-cloud-storage<3.0.0dev,>=1.32.0 in /usr/local/lib/python3.10/dist-packages (from google-cloud-aiplatform==1.38.0) (2.8.0)\n",
            "Requirement already satisfied: google-cloud-bigquery<4.0.0dev,>=1.15.0 in /usr/local/lib/python3.10/dist-packages (from google-cloud-aiplatform==1.38.0) (3.12.0)\n",
            "Requirement already satisfied: google-cloud-resource-manager<3.0.0dev,>=1.3.3 in /usr/local/lib/python3.10/dist-packages (from google-cloud-aiplatform==1.38.0) (1.10.4)\n",
            "Requirement already satisfied: shapely<3.0.0dev in /usr/local/lib/python3.10/dist-packages (from google-cloud-aiplatform==1.38.0) (2.0.2)\n",
            "Requirement already satisfied: googleapis-common-protos<2.0.dev0,>=1.56.2 in /usr/local/lib/python3.10/dist-packages (from google-api-core[grpc]!=2.0.*,!=2.1.*,!=2.2.*,!=2.3.*,!=2.4.*,!=2.5.*,!=2.6.*,!=2.7.*,<3.0.0dev,>=1.32.0->google-cloud-aiplatform==1.38.0) (1.61.0)\n",
            "Requirement already satisfied: google-auth<3.0.dev0,>=2.14.1 in /usr/local/lib/python3.10/dist-packages (from google-api-core[grpc]!=2.0.*,!=2.1.*,!=2.2.*,!=2.3.*,!=2.4.*,!=2.5.*,!=2.6.*,!=2.7.*,<3.0.0dev,>=1.32.0->google-cloud-aiplatform==1.38.0) (2.17.3)\n",
            "Requirement already satisfied: requests<3.0.0.dev0,>=2.18.0 in /usr/local/lib/python3.10/dist-packages (from google-api-core[grpc]!=2.0.*,!=2.1.*,!=2.2.*,!=2.3.*,!=2.4.*,!=2.5.*,!=2.6.*,!=2.7.*,<3.0.0dev,>=1.32.0->google-cloud-aiplatform==1.38.0) (2.31.0)\n",
            "Requirement already satisfied: grpcio<2.0dev,>=1.33.2 in /usr/local/lib/python3.10/dist-packages (from google-api-core[grpc]!=2.0.*,!=2.1.*,!=2.2.*,!=2.3.*,!=2.4.*,!=2.5.*,!=2.6.*,!=2.7.*,<3.0.0dev,>=1.32.0->google-cloud-aiplatform==1.38.0) (1.59.3)\n",
            "Requirement already satisfied: grpcio-status<2.0.dev0,>=1.33.2 in /usr/local/lib/python3.10/dist-packages (from google-api-core[grpc]!=2.0.*,!=2.1.*,!=2.2.*,!=2.3.*,!=2.4.*,!=2.5.*,!=2.6.*,!=2.7.*,<3.0.0dev,>=1.32.0->google-cloud-aiplatform==1.38.0) (1.48.2)\n",
            "Requirement already satisfied: google-cloud-core<3.0.0dev,>=1.6.0 in /usr/local/lib/python3.10/dist-packages (from google-cloud-bigquery<4.0.0dev,>=1.15.0->google-cloud-aiplatform==1.38.0) (2.3.3)\n",
            "Requirement already satisfied: google-resumable-media<3.0dev,>=0.6.0 in /usr/local/lib/python3.10/dist-packages (from google-cloud-bigquery<4.0.0dev,>=1.15.0->google-cloud-aiplatform==1.38.0) (2.6.0)\n",
            "Requirement already satisfied: python-dateutil<3.0dev,>=2.7.2 in /usr/local/lib/python3.10/dist-packages (from google-cloud-bigquery<4.0.0dev,>=1.15.0->google-cloud-aiplatform==1.38.0) (2.8.2)\n",
            "Requirement already satisfied: grpc-google-iam-v1<1.0.0dev,>=0.12.4 in /usr/local/lib/python3.10/dist-packages (from google-cloud-resource-manager<3.0.0dev,>=1.3.3->google-cloud-aiplatform==1.38.0) (0.12.7)\n",
            "Requirement already satisfied: numpy>=1.14 in /usr/local/lib/python3.10/dist-packages (from shapely<3.0.0dev->google-cloud-aiplatform==1.38.0) (1.23.5)\n",
            "Requirement already satisfied: cachetools<6.0,>=2.0.0 in /usr/local/lib/python3.10/dist-packages (from google-auth<3.0.dev0,>=2.14.1->google-api-core[grpc]!=2.0.*,!=2.1.*,!=2.2.*,!=2.3.*,!=2.4.*,!=2.5.*,!=2.6.*,!=2.7.*,<3.0.0dev,>=1.32.0->google-cloud-aiplatform==1.38.0) (5.3.2)\n",
            "Requirement already satisfied: pyasn1-modules>=0.2.1 in /usr/local/lib/python3.10/dist-packages (from google-auth<3.0.dev0,>=2.14.1->google-api-core[grpc]!=2.0.*,!=2.1.*,!=2.2.*,!=2.3.*,!=2.4.*,!=2.5.*,!=2.6.*,!=2.7.*,<3.0.0dev,>=1.32.0->google-cloud-aiplatform==1.38.0) (0.3.0)\n",
            "Requirement already satisfied: six>=1.9.0 in /usr/local/lib/python3.10/dist-packages (from google-auth<3.0.dev0,>=2.14.1->google-api-core[grpc]!=2.0.*,!=2.1.*,!=2.2.*,!=2.3.*,!=2.4.*,!=2.5.*,!=2.6.*,!=2.7.*,<3.0.0dev,>=1.32.0->google-cloud-aiplatform==1.38.0) (1.16.0)\n",
            "Requirement already satisfied: rsa<5,>=3.1.4 in /usr/local/lib/python3.10/dist-packages (from google-auth<3.0.dev0,>=2.14.1->google-api-core[grpc]!=2.0.*,!=2.1.*,!=2.2.*,!=2.3.*,!=2.4.*,!=2.5.*,!=2.6.*,!=2.7.*,<3.0.0dev,>=1.32.0->google-cloud-aiplatform==1.38.0) (4.9)\n",
            "Requirement already satisfied: google-crc32c<2.0dev,>=1.0 in /usr/local/lib/python3.10/dist-packages (from google-resumable-media<3.0dev,>=0.6.0->google-cloud-bigquery<4.0.0dev,>=1.15.0->google-cloud-aiplatform==1.38.0) (1.5.0)\n",
            "Requirement already satisfied: charset-normalizer<4,>=2 in /usr/local/lib/python3.10/dist-packages (from requests<3.0.0.dev0,>=2.18.0->google-api-core[grpc]!=2.0.*,!=2.1.*,!=2.2.*,!=2.3.*,!=2.4.*,!=2.5.*,!=2.6.*,!=2.7.*,<3.0.0dev,>=1.32.0->google-cloud-aiplatform==1.38.0) (3.3.2)\n",
            "Requirement already satisfied: idna<4,>=2.5 in /usr/local/lib/python3.10/dist-packages (from requests<3.0.0.dev0,>=2.18.0->google-api-core[grpc]!=2.0.*,!=2.1.*,!=2.2.*,!=2.3.*,!=2.4.*,!=2.5.*,!=2.6.*,!=2.7.*,<3.0.0dev,>=1.32.0->google-cloud-aiplatform==1.38.0) (3.6)\n",
            "Requirement already satisfied: urllib3<3,>=1.21.1 in /usr/local/lib/python3.10/dist-packages (from requests<3.0.0.dev0,>=2.18.0->google-api-core[grpc]!=2.0.*,!=2.1.*,!=2.2.*,!=2.3.*,!=2.4.*,!=2.5.*,!=2.6.*,!=2.7.*,<3.0.0dev,>=1.32.0->google-cloud-aiplatform==1.38.0) (2.0.7)\n",
            "Requirement already satisfied: certifi>=2017.4.17 in /usr/local/lib/python3.10/dist-packages (from requests<3.0.0.dev0,>=2.18.0->google-api-core[grpc]!=2.0.*,!=2.1.*,!=2.2.*,!=2.3.*,!=2.4.*,!=2.5.*,!=2.6.*,!=2.7.*,<3.0.0dev,>=1.32.0->google-cloud-aiplatform==1.38.0) (2023.11.17)\n",
            "Requirement already satisfied: pyasn1<0.6.0,>=0.4.6 in /usr/local/lib/python3.10/dist-packages (from pyasn1-modules>=0.2.1->google-auth<3.0.dev0,>=2.14.1->google-api-core[grpc]!=2.0.*,!=2.1.*,!=2.2.*,!=2.3.*,!=2.4.*,!=2.5.*,!=2.6.*,!=2.7.*,<3.0.0dev,>=1.32.0->google-cloud-aiplatform==1.38.0) (0.5.1)\n"
          ]
        }
      ],
      "source": [
        "!pip install google-cloud-aiplatform==1.38.0"
      ]
    },
    {
      "cell_type": "markdown",
      "source": [
        "**Initialize Vertex AI**\n",
        "---"
      ],
      "metadata": {
        "id": "r4cszX8tHIQT"
      }
    },
    {
      "cell_type": "code",
      "source": [
        "import os\n",
        "os.environ[\"GOOGLE_APPLICATION_CREDENTIALS\"] = \"./nlmatics-1f123f7481dd.json\""
      ],
      "metadata": {
        "id": "P6eNcbNgRY7k"
      },
      "execution_count": null,
      "outputs": []
    },
    {
      "cell_type": "code",
      "source": [
        "import vertexai\n",
        "vertexai.init(project=\"nlmatics\", location=\"us-central1\")"
      ],
      "metadata": {
        "id": "IpKVYGi8lvDj"
      },
      "execution_count": null,
      "outputs": []
    },
    {
      "cell_type": "code",
      "source": [
        "from vertexai.preview.generative_models import GenerativeModel\n",
        "\n",
        "def run_prompt(prompt_text, context_text):\n",
        "  model = GenerativeModel(\"gemini-pro\")\n",
        "  responses = model.generate_content(f\"{prompt_text}\\n{context_text}\", stream=False)\n",
        "  return responses.candidates[0].content.parts[0].text\n",
        "\n",
        "def summarize_table(table_text):\n",
        "  return run_prompt(\"You are a financial analyst and you are required to summarize the key insights of given numerical tables.\", table_text)\n",
        "\n",
        "def summarize_article(article_text):\n",
        "  return run_prompt(\"Provide a brief summary for the following article:\", article_text)\n"
      ],
      "metadata": {
        "id": "B-H6B6rblaLk"
      },
      "execution_count": null,
      "outputs": []
    },
    {
      "cell_type": "code",
      "source": [
        "!pip install llmsherpa"
      ],
      "metadata": {
        "colab": {
          "base_uri": "https://localhost:8080/"
        },
        "id": "sCLhL5kxeYyy",
        "outputId": "30228f9b-3dc1-444c-b3d4-9fb044998070"
      },
      "execution_count": null,
      "outputs": [
        {
          "output_type": "stream",
          "name": "stdout",
          "text": [
            "Collecting llmsherpa\n",
            "  Downloading llmsherpa-0.1.3-py3-none-any.whl (12 kB)\n",
            "Requirement already satisfied: urllib3 in /usr/local/lib/python3.10/dist-packages (from llmsherpa) (2.0.7)\n",
            "Installing collected packages: llmsherpa\n",
            "Successfully installed llmsherpa-0.1.3\n"
          ]
        }
      ]
    },
    {
      "cell_type": "markdown",
      "source": [
        "Reading Google's 10-K Document using LLM Sherpa LayoutPDFReader"
      ],
      "metadata": {
        "id": "kjFtA8hTnFW0"
      }
    },
    {
      "cell_type": "code",
      "source": [
        "# pdf_url = \"https://d18rn0p25nwr6d.cloudfront.net/CIK-0000320193/faab4555-c69b-438a-aaf7-e09305f87ca3.pdf\"\n",
        "from llmsherpa.readers import LayoutPDFReader\n",
        "pdf_url = \"https://www.abc.xyz/assets/9a/bd/838c917c4b4ab21f94e84c3c2c65/goog-10-k-q4-2022.pdf\"\n",
        "llmsherpa_api_url = \"https://readers.llmsherpa.com/api/document/developer/parseDocument?renderFormat=all\"\n",
        "# pdf_url = \"https://arxiv.org/pdf/1910.13461.pdf\" # also allowed is a file path e.g. /home/downloads/xyz.pdf\n",
        "pdf_reader = LayoutPDFReader(llmsherpa_api_url)\n",
        "doc = pdf_reader.read_pdf(pdf_url)\n"
      ],
      "metadata": {
        "id": "Vyjth4WzXJkC"
      },
      "execution_count": null,
      "outputs": []
    },
    {
      "cell_type": "markdown",
      "source": [
        "**Find and Summarize a table**\n",
        "---"
      ],
      "metadata": {
        "id": "oR_U0NrEnPEk"
      }
    },
    {
      "cell_type": "code",
      "source": [
        "from IPython.core.display import display, HTML\n",
        "# HTML(doc.tables()[5].to_html())\n",
        "my_table = None\n",
        "for table in doc.tables():\n",
        " if \"CONSOLIDATED STATEMENTS OF CASH\" in table.parent_text():\n",
        "    my_table = table\n",
        "    break\n",
        "# if my_table:\n",
        "# HTML(my_table.to_html())\n",
        "print(summarize_table(my_table.to_text()))"
      ],
      "metadata": {
        "colab": {
          "base_uri": "https://localhost:8080/"
        },
        "id": "XcO07MTJerkv",
        "outputId": "9c5e9e67-fbc0-4d44-c55a-4c9398fee6b0"
      },
      "execution_count": null,
      "outputs": [
        {
          "output_type": "stream",
          "name": "stdout",
          "text": [
            "- The company's net income saw a significant increase in 2021, rising by 89% from $40,269 million to $76,033 million. However, it declined by 21% to $59,972 million in 2022.\n",
            "\n",
            "- Net cash provided by operating activities improved from $65,124 million in 2020 to $91,652 million in 2021, but slightly decreased to $91,495 million in 2022.\n",
            "\n",
            "- Investing activities continued to consume cash, with net cash used increasing from $32,773 million in 2020 to $35,523 million in 2021, and further to $20,298 million in 2022. This change was primarily driven by a decrease in purchases of marketable securities.\n",
            "\n",
            "- Net cash used in financing activities increased significantly from $24,408 million in 2020 to $61,362 million in 2021, mainly due to a surge in stock repurchases and a decrease in proceeds from debt issuance. It further increased to $69,757 million in 2022.\n",
            "\n",
            "- The company's cash and cash equivalents experienced fluctuations, decreasing from $26,465 million at the end of 2020 to $20,945 million at the end of 2021, and subsequently increasing to $21,879 million at the end of 2022.\n",
            "\n",
            "- The company's cash paid for income taxes significantly increased over the years, from $4,990 million in 2020 to $13,412 million in 2021, and further to $18,892 million in 2022.\n"
          ]
        }
      ]
    },
    {
      "cell_type": "markdown",
      "source": [
        "**Find and Summarize Section**\n",
        "---"
      ],
      "metadata": {
        "id": "ADlxp59X200q"
      }
    },
    {
      "cell_type": "code",
      "source": [
        "selected_section = \"\"\n",
        "for section in doc.sections():\n",
        "  if section.title == \"Risks Specific to our Company\":\n",
        "    selected_section = section\n",
        "    break\n",
        "HTML(selected_section.to_html(include_children=True, recurse=True))\n",
        "print(run_prompt(\"Read this and summarize key risks:\", selected_section.to_text(include_children=True, recurse=True)))"
      ],
      "metadata": {
        "colab": {
          "base_uri": "https://localhost:8080/"
        },
        "id": "i7bNb4Svgd1T",
        "outputId": "361bb589-3343-426d-8dd7-0766f8f8e85d"
      },
      "execution_count": null,
      "outputs": [
        {
          "output_type": "stream",
          "name": "stdout",
          "text": [
            "- Reduced spending by advertisers, loss of partners, or new technologies that block ads online could harm revenue.\n",
            "\n",
            "\n",
            "- Termination of contracts by advertisers, publishers, content providers at any time could harm revenue.\n",
            "\n",
            "\n",
            "- Changes to advertising policies and data privacy practices could impact advertising availability.\n",
            "\n",
            "\n",
            "- Economic conditions could affect advertising spending, harming revenue.\n",
            "\n",
            "\n",
            "- Intense competition requires constant innovation to remain competitive, which may not always be successful.\n",
            "\n",
            "\n",
            "- New technologies and competitors may offer better products/services, reducing usage of Google's products.\n",
            "\n",
            "\n",
            "- Ongoing investment in new businesses, products, services, and technologies may divert management attention and harm financial performance.\n",
            "\n",
            "\n",
            "- Revenue growth rate could decline over time due to various factors, impacting profitability.\n",
            "\n",
            "\n",
            "- Inability to protect intellectual property rights could reduce the value of products/services and affect competitiveness.\n",
            "\n",
            "\n",
            "- Failure to maintain and enhance brands could hurt the ability to expand the user base and harm financial performance.\n",
            "\n",
            "\n",
            "- Manufacturing and supply chain risks, such as supply shortages, price increases, and geopolitical tensions, could affect operations and product availability.\n",
            "\n",
            "\n",
            "- Product quality issues could harm reputation and financial performance.\n",
            "\n",
            "\n",
            "- International operations expose Google to risks such as foreign ownership restrictions, import/export requirements, political unrest, and currency fluctuations.\n",
            "\n",
            "\n",
            "- Fair value of investments is subject to fluctuations and affected by liquidity, credit deterioration, performance, interest rates, and regulations, impacting financial statements.\n"
          ]
        }
      ]
    },
    {
      "cell_type": "markdown",
      "source": [
        "**RAG and Semantic Search**\n",
        "---\n",
        "\n"
      ],
      "metadata": {
        "id": "DffOrO1a2fr_"
      }
    },
    {
      "cell_type": "code",
      "source": [
        "from vertexai.language_models import TextEmbeddingModel\n",
        "pdf2_url = \"https://static.googleusercontent.com/media/about.google/en//belonging/diversity-annual-report/2023/static/pdfs/google_2023_diversity_annual_report.pdf?cachebust=2943cac\"\n",
        "doc2 = pdf_reader.read_pdf(pdf2_url)\n",
        "\n",
        "def text_embedding() -> list:\n",
        "    \"\"\"Text embedding with a Large Language Model.\"\"\"\n",
        "    model = TextEmbeddingModel.from_pretrained(\"textembedding-gecko@001\")\n",
        "    embeddings = model.get_embeddings([\"What is life?\"])\n",
        "    for embedding in embeddings:\n",
        "        vector = embedding.values\n",
        "        print(f\"Length of Embedding Vector: {len(vector)}\")\n",
        "    return vector\n",
        "\n",
        "contexts = []\n",
        "for chunk in doc2.chunks():\n",
        "  contexts.append(chunk.to_context_text())\n",
        "#Encode your documents with input type 'search_document'\n",
        "embeddings_model = TextEmbeddingModel.from_pretrained(\"textembedding-gecko@001\")\n",
        "embeddings = embeddings_model.get_embeddings(contexts[0:250])\n",
        "\n",
        "# text_embedding()"
      ],
      "metadata": {
        "id": "q9yfl3y1yI8p"
      },
      "execution_count": null,
      "outputs": []
    },
    {
      "cell_type": "code",
      "source": [
        "import numpy as np\n",
        "emb_values = []\n",
        "for embedding in embeddings:\n",
        "  emb_values.append(embedding.values)\n",
        "# emb_values[0]\n",
        "doc_emb = np.asarray(emb_values)"
      ],
      "metadata": {
        "id": "KLaNJT9Q0UCi"
      },
      "execution_count": null,
      "outputs": []
    },
    {
      "cell_type": "code",
      "source": [
        "import numpy as np\n",
        "def ask(query):\n",
        "  #Encode your query with input type 'search_query'\n",
        "  query_emb = embeddings_model.get_embeddings([query])[0].values\n",
        "  query_emb = np.asarray(query_emb)\n",
        "  query_emb.shape\n",
        "  #Compute the dot product between query embedding and document embedding\n",
        "  scores = np.dot(query_emb, doc_emb.T)\n",
        "  # print(scores)\n",
        "  #Find the highest scores\n",
        "  max_idx = np.argsort(-scores)\n",
        "  most_relevant_contexts = []\n",
        "  top_k = 20\n",
        "\n",
        "  #Get only the top contexts to keep the context for openai small\n",
        "  for idx in max_idx[0:top_k]:\n",
        "    most_relevant_contexts.append(contexts[idx])\n",
        "\n",
        "  #Call OpenAI to synthesize answers\n",
        "  passages = \"\\n\".join(most_relevant_contexts)\n",
        "  synthesized_answer = run_prompt(f\"Read this and answer question: {query}\", passages)\n",
        "\n",
        "  print(f\"Query: {query}\")\n",
        "  print(f\"Answer: {synthesized_answer}\")\n",
        "  # print(\"\\nRelevant contexts: \\n\")\n",
        "  # for ctx in most_relevant_contexts:\n",
        "  #     print(ctx)\n",
        "  #     print(\"--------\")\n",
        "\n",
        "ask(\"what did they do for diversity\")"
      ],
      "metadata": {
        "colab": {
          "base_uri": "https://localhost:8080/"
        },
        "id": "LSdw0WbP08vF",
        "outputId": "4a0f3b15-49da-432e-c2e3-be0b92e3f425"
      },
      "execution_count": null,
      "outputs": [
        {
          "output_type": "stream",
          "name": "stdout",
          "text": [
            "Query: what did they do for diversity\n",
            "Answer: 1. In Our Products:\n",
            "   - They built health equity into Search and YouTube to ensure that health information is accessible and accurate for everyone.\n",
            "   - They worked on Project Relate and Tackling Health Equity through Information Quality (THE-IQ) to provide seed funding and expertise to organizations working to improve health outcomes for marginalized communities.\n",
            "   - They continued to take steps to curb harassment on YouTube and made the platform safer for underrepresented communities.\n",
            "\n",
            "\n",
            "2. In Our Workplace:\n",
            "   - They deepened their anti-racism education efforts globally by launching programs to educate employees on racial equity, especially in the context of their regions.\n",
            "   - They expanded two of their newer Employee Resource Groups (ERGs) globally - the Parents and Caregivers ERG and the Mixed@Google ERG - to support employees in parenting and multi-racial/multi-ethnic roles.\n",
            "\n",
            "\n",
            "3. In Society:\n",
            "   - They platformed opportunities for Black, Latinx, and Native American college students in the U.S. through programs like Tech Exchange, which provides hybrid academic programs taught by Google engineers focused on these communities.\n",
            "   - They strengthened relationships with Historically Black Colleges and Universities (HBCUs) and Hispanic Serving Institutions (HSIs) to promote diversity in the tech industry.\n",
            "   - They expanded their outreach in Africa with the launch of Interview Warm Up, a free AI-based app that helps job seekers improve their interview skills, with an aim to support young people in a continent with the world's youngest population.\n"
          ]
        }
      ]
    }
  ]
}