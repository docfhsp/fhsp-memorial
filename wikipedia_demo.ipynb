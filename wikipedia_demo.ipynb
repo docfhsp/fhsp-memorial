{
  "cells": [
    {
      "cell_type": "markdown",
      "metadata": {
        "id": "view-in-github",
        "colab_type": "text"
      },
      "source": [
        "<a href=\"https://colab.research.google.com/github/docfhsp/fhsp-memorial/blob/main/wikipedia_demo.ipynb\" target=\"_parent\"><img src=\"https://colab.research.google.com/assets/colab-badge.svg\" alt=\"Open In Colab\"/></a>"
      ]
    },
    {
      "cell_type": "markdown",
      "metadata": {
        "id": "Vzz0Z16G6CPU"
      },
      "source": [
        "**In this notebook, we showcase how to use the KVpress pipelines by answering questions about NVIDIA Wikipedia article.**"
      ]
    },
    {
      "cell_type": "markdown",
      "source": [
        "The notebook explains\n",
        "\n",
        "1.   How to set up a press and use it in transformer's pipeline\n",
        "2.   How to answer multiple questions, reusing the compressed context\n",
        "3.   How to achieve high compression ratios by using Snapkv press and adding the question to the context\n",
        "\n"
      ],
      "metadata": {
        "id": "kX66uTNQ6y9h"
      }
    },
    {
      "cell_type": "code",
      "source": [
        "# tensorflow, which is not needed, is compiled with numpy<2.0. This is causing an import error, as we are using numpy>=2.0\n",
        "!pip uninstall tensorflow -y"
      ],
      "metadata": {
        "id": "GTViYdj6DJAj",
        "colab": {
          "base_uri": "https://localhost:8080/"
        },
        "outputId": "ce0a66bc-acf2-48ae-a6bf-1f008d61d39e"
      },
      "execution_count": null,
      "outputs": [
        {
          "output_type": "stream",
          "name": "stdout",
          "text": [
            "\u001b[33mWARNING: Skipping tensorflow as it is not installed.\u001b[0m\u001b[33m\n",
            "\u001b[0m"
          ]
        }
      ]
    },
    {
      "cell_type": "code",
      "source": [
        "!pip install kvpress --quiet"
      ],
      "metadata": {
        "id": "DDTH9U6m6C8A"
      },
      "execution_count": null,
      "outputs": []
    },
    {
      "cell_type": "markdown",
      "source": [
        "**Please restart the session if you enocunter an import issue below.**\n",
        "\n",
        "This is a known issue of google colab"
      ],
      "metadata": {
        "id": "pRxvc-HrLNXy"
      }
    },
    {
      "cell_type": "code",
      "execution_count": null,
      "metadata": {
        "id": "0nvgjQ696CPW"
      },
      "outputs": [],
      "source": [
        "import requests\n",
        "from bs4 import BeautifulSoup\n",
        "\n",
        "import torch\n",
        "from transformers import pipeline\n",
        "\n",
        "from kvpress import (\n",
        "    ExpectedAttentionPress,\n",
        "    KnormPress,\n",
        "    ObservedAttentionPress,\n",
        "    RandomPress,\n",
        "    SnapKVPress,\n",
        "    StreamingLLMPress,\n",
        ")"
      ]
    },
    {
      "cell_type": "markdown",
      "metadata": {
        "id": "NR8PAgMp6CPX"
      },
      "source": [
        "# Load the pipeline and data"
      ]
    },
    {
      "cell_type": "code",
      "execution_count": null,
      "metadata": {
        "colab": {
          "base_uri": "https://localhost:8080/"
        },
        "id": "_0hfAPkg6CPY",
        "outputId": "2bb79bdd-2d67-4c1c-f986-f8eac219e21b"
      },
      "outputs": [
        {
          "output_type": "stream",
          "name": "stderr",
          "text": [
            "/usr/local/lib/python3.10/dist-packages/huggingface_hub/utils/_auth.py:94: UserWarning: \n",
            "The secret `HF_TOKEN` does not exist in your Colab secrets.\n",
            "To authenticate with the Hugging Face Hub, create a token in your settings tab (https://huggingface.co/settings/tokens), set it as secret in your Google Colab and restart your session.\n",
            "You will be able to reuse this secret in all of your notebooks.\n",
            "Please note that authentication is recommended but still optional to access public models or datasets.\n",
            "  warnings.warn(\n"
          ]
        }
      ],
      "source": [
        "# Load pipeline\n",
        "\n",
        "device = \"cuda:0\"\n",
        "ckpt = \"Qwen/Qwen2.5-1.5B-Instruct\"\n",
        "# use attn_implementation = \"eager\" for ObservedAttentionPress or attn_implementation = \"flash_attention_2\" if you can use flash attention\n",
        "# flash_attention_2 is not fully supported on T4 GPUs, so we are using sdpa\n",
        "attn_implementation = \"sdpa\"\n",
        "pipe = pipeline(\"kv-press-text-generation\", model=ckpt, device=device, torch_dtype=torch.float16, model_kwargs={\"attn_implementation\":attn_implementation})"
      ]
    },
    {
      "cell_type": "code",
      "execution_count": null,
      "metadata": {
        "colab": {
          "base_uri": "https://localhost:8080/"
        },
        "id": "WkTwLDjS6CPY",
        "outputId": "9fd24379-6ded-4620-c3db-2b5eaf39620f"
      },
      "outputs": [
        {
          "output_type": "stream",
          "name": "stdout",
          "text": [
            "Number of tokens: 9775\n"
          ]
        }
      ],
      "source": [
        "# Load data\n",
        "url = \"https://en.wikipedia.org/wiki/Nvidia\"\n",
        "content = requests.get(url).content\n",
        "soup = BeautifulSoup(content, \"html.parser\")\n",
        "context = \"\".join([p.text for p in soup.find_all(\"p\")]) + \"\\n\\n\"\n",
        "tokens = pipe.tokenizer.encode(context, return_tensors=\"pt\").to(device)\n",
        "tokens = tokens\n",
        "print(f\"Number of tokens: {tokens.size(1)}\")"
      ]
    },
    {
      "cell_type": "markdown",
      "metadata": {
        "id": "Pdzn3v8S6CPZ"
      },
      "source": [
        "# Use the pipeline with a press"
      ]
    },
    {
      "cell_type": "code",
      "source": [
        "# First we ensure that the question cannot be answered using the model's internal knowledge\n",
        "question = \"What happened on March 1, 2024?\"\n",
        "true_answer = \"Nvidia became the third company in the history of the United States to close with a market capitalization in excess of $2 trillion.\"\n",
        "pred_answer = pipe(\" \", question=question, press=ExpectedAttentionPress(0.0))[\"answer\"]\n",
        "\n",
        "print(f\"Question:   {question}\")\n",
        "print(f\"Answer:     {true_answer}\")\n",
        "print(f\"Prediction: {pred_answer}\")"
      ],
      "metadata": {
        "colab": {
          "base_uri": "https://localhost:8080/"
        },
        "id": "IgS7jSqPLORc",
        "outputId": "00e4112a-a453-447e-b2ad-9df8d4aa73f9"
      },
      "execution_count": null,
      "outputs": [
        {
          "output_type": "stream",
          "name": "stdout",
          "text": [
            "Question:   What happened on March 1, 2024?\n",
            "Answer:     Nvidia became the third company in the history of the United States to close with a market capitalization in excess of $2 trillion.\n",
            "Prediction: I'm sorry, but I'm not able to provide information about specific events or dates. My knowledge cutoff is 2021, so I don't have up-to-date information about events that occurred on March 1, 202\n"
          ]
        }
      ]
    },
    {
      "cell_type": "code",
      "source": [
        "# Pick a press with a compression ratio, you can run the following cells with different presses\n",
        "compression_ratio = 0.3\n",
        "press = ExpectedAttentionPress(compression_ratio)\n",
        "# press = KnormPress(compression_ratio)\n",
        "# press = RandomPress(compression_ratio)"
      ],
      "metadata": {
        "id": "PnSk9swMLW2E"
      },
      "execution_count": null,
      "outputs": []
    },
    {
      "cell_type": "code",
      "execution_count": null,
      "metadata": {
        "colab": {
          "base_uri": "https://localhost:8080/"
        },
        "id": "476bosD36CPZ",
        "outputId": "7f77e20a-278f-472d-fb43-6947c0b4abe8"
      },
      "outputs": [
        {
          "output_type": "stream",
          "name": "stderr",
          "text": [
            "The `seen_tokens` attribute is deprecated and will be removed in v4.41. Use the `cache_position` model input instead.\n"
          ]
        },
        {
          "output_type": "stream",
          "name": "stdout",
          "text": [
            "Question:   What happened on March 1, 2024?\n",
            "Answer:     Nvidia became the third company in the history of the United States to close with a market capitalization in excess of $2 trillion.\n",
            "Prediction: On March 1, 2024, Nvidia became the third company in the history of the United States to close with a market capitalization in excess of $2 trillion. This milestone was reached after only 180 days from reaching\n"
          ]
        }
      ],
      "source": [
        "# Run the pipeline on a single question\n",
        "\n",
        "question = \"What happened on March 1, 2024?\"\n",
        "true_answer = \"Nvidia became the third company in the history of the United States to close with a market capitalization in excess of $2 trillion.\"\n",
        "pred_answer = pipe(context, question=question, press=press)[\"answer\"]\n",
        "\n",
        "print(f\"Question:   {question}\")\n",
        "print(f\"Answer:     {true_answer}\")\n",
        "print(f\"Prediction: {pred_answer}\")"
      ]
    },
    {
      "cell_type": "code",
      "source": [
        "# Increasing the compression_ratio causes the model to give an incorrect answer.\n",
        "# The optimal compression ratio depends on the specific model, as well on the model size.\n",
        "\n",
        "question = \"What happened on March 1, 2024?\"\n",
        "true_answer = \"Nvidia became the third company in the history of the United States to close with a market capitalization in excess of $2 trillion.\"\n",
        "pred_answer = pipe(context, question=question, press=ExpectedAttentionPress(compression_ratio=0.5))[\"answer\"]\n",
        "\n",
        "print(f\"Question:   {question}\")\n",
        "print(f\"Answer:     {true_answer}\")\n",
        "print(f\"Prediction: {pred_answer}\")"
      ],
      "metadata": {
        "colab": {
          "base_uri": "https://localhost:8080/"
        },
        "id": "rKBsBKt-Ll9N",
        "outputId": "59cfe7a3-5795-4d33-a41e-a7e77bfb3496"
      },
      "execution_count": null,
      "outputs": [
        {
          "output_type": "stream",
          "name": "stdout",
          "text": [
            "Question:   What happened on March 1, 2024?\n",
            "Answer:     Nvidia became the third company in the history of the United States to close with a market capitalization in excess of $2 trillion.\n",
            "Prediction: Based on the information provided, there is no specific event or news item mentioned for March 1, 2024. The text does not contain any details about what happened on that particular date. To provide accurate information, I would need more\n"
          ]
        }
      ]
    },
    {
      "cell_type": "code",
      "execution_count": null,
      "metadata": {
        "colab": {
          "base_uri": "https://localhost:8080/"
        },
        "id": "kzHILdQg6CPa",
        "outputId": "0a562221-7926-4004-9ff9-73c291fb4cc9"
      },
      "outputs": [
        {
          "output_type": "stream",
          "name": "stdout",
          "text": [
            "Question:   What happened on March 1, 2024?\n",
            "Answer:     Nvidia became the third company in the history of the United States to close with a market capitalization in excess of $2 trillion\n",
            "Prediction: On March 1, 2024, Nvidia became the third company in the history of the United States to close with a market capitalization in excess of $2 trillion. This milestone was reached after only 180 days from reaching\n",
            "\n",
            "Question:   What was the unofficial company motto of Nvidia during the early days?\n",
            "Answer:     Our company is thirty days from going out of business\n",
            "Prediction: According to the information provided, the unofficial company motto of Nvidia during the early days was:\n",
            "\n",
            "\"Our company is thirty days from going out of business.\"\n",
            "\n",
            "This motto was reportedly coined by Huang during a time of extreme desperation and financial difficulty for the company. It\n",
            "\n"
          ]
        }
      ],
      "source": [
        "# Run the pipeline on multiple questions, the context will be compressed only once\n",
        "\n",
        "questions = [\n",
        "    \"What happened on March 1, 2024?\",\n",
        "    \"What was the unofficial company motto of Nvidia during the early days?\",\n",
        "]\n",
        "\n",
        "true_answers = [\n",
        "    \"Nvidia became the third company in the history of the United States to close with a market capitalization in excess of $2 trillion\",\n",
        "    \"Our company is thirty days from going out of business\",\n",
        "]\n",
        "\n",
        "pred_answers = pipe(context, questions=questions, press=press)[\"answers\"]\n",
        "for question, pred_answer, true_answer in zip(questions, pred_answers, true_answers):\n",
        "    print(f\"Question:   {question}\")\n",
        "    print(f\"Answer:     {true_answer}\")\n",
        "    print(f\"Prediction: {pred_answer}\")\n",
        "    print()"
      ]
    },
    {
      "cell_type": "code",
      "execution_count": null,
      "metadata": {
        "colab": {
          "base_uri": "https://localhost:8080/"
        },
        "id": "6pvZ_QKf6CPa",
        "outputId": "390b356b-7260-4e50-901a-fa79a7710a57"
      },
      "outputs": [
        {
          "output_type": "stream",
          "name": "stdout",
          "text": [
            "Question:              What is GTC ?\n",
            "Answer:                Nvidia's GPU Technology Conference (GTC) is a series of technical conferences held around the world.\n",
            "Prediction w/o prefix: GTC stands for GPU Technology Conference. It is an annual conference that focuses on the latest developments and advancements in graphics processing units (GPUs) and\n",
            "Prediction w/ prefix : Come on you don't know GTC ? Everyone knows GTC. It's the GPU Technology Conference. It's a major event in the graphics processing unit (GPU) industry. It's where top\n"
          ]
        }
      ],
      "source": [
        "# Use an answer prefix and limit the number of tokens in the answer\n",
        "\n",
        "question = \"What is GTC ?\"\n",
        "true_answer = \"Nvidia's GPU Technology Conference (GTC) is a series of technical conferences held around the world.\"\n",
        "answer_prefix = \"Come on you don't know GTC ? Everyone\"\n",
        "max_new_tokens = 30\n",
        "\n",
        "pred_answer_with_prefix = pipe(context, question=question, answer_prefix=answer_prefix, press=press, max_new_tokens=max_new_tokens)[\"answer\"]\n",
        "pred_answer_without_prefix = pipe(context, question=question, press=press, max_new_tokens=max_new_tokens)[\"answer\"]\n",
        "\n",
        "print(f\"Question:              {question}\")\n",
        "print(f\"Answer:                {true_answer}\")\n",
        "print(f\"Prediction w/o prefix: {pred_answer_without_prefix}\")\n",
        "print(f\"Prediction w/ prefix : {answer_prefix + pred_answer_with_prefix}\")"
      ]
    },
    {
      "cell_type": "code",
      "execution_count": null,
      "metadata": {
        "colab": {
          "base_uri": "https://localhost:8080/"
        },
        "id": "mTdzpKwb6CPa",
        "outputId": "2367be7e-8a2c-4c6c-8f69-f902044e839f"
      },
      "outputs": [
        {
          "output_type": "stream",
          "name": "stdout",
          "text": [
            "Question:         What happened on March 1, 2024?\n",
            "Answer:           Nvidia became the third company in the history of the United States to close with a market capitalization in excess of $2 trillion.\n",
            "Prediction w/ Q:  On March 1, 2024, Nvidia became the third company in the S&P 500 to reach a market capitalization of $2 trillion. This milestone was reached during trading hours, and Nvidia needed only 18\n",
            "Prediction w/o Q: On March 1, 2024, Nvidia CEO Jensen Huang announced at the company's annual meeting that Nvidia would be adding a new \"Inception\" program to its portfolio of AI-focused initiatives. This new program would focus on developing and deploying AI technologies in a wide range of industries, including healthcare, manufacturing, and transportation. The goal of the Inception program is to accelerate the development and deployment of AI solutions that can help solve some of the world's most pressing challenges.\n"
          ]
        }
      ],
      "source": [
        "# SnapKV use the latest queries to prune the KV-cache. It's hence more efficient if we include the question during compression as the latest queries will correspond to the question.\n",
        "# However it implies also implies that SnapKV cannot compress well the context independently of the question (e.g. as in a chat use case)\n",
        "\n",
        "\n",
        "question = \"What happened on March 1, 2024?\"\n",
        "true_answer = \"Nvidia became the third company in the history of the United States to close with a market capitalization in excess of $2 trillion.\"\n",
        "\n",
        "press = SnapKVPress(compression_ratio=0.7)\n",
        "\n",
        "pred_answer_with_question = pipe(context + question, press=press)[\"answer\"]\n",
        "pred_answer_without_question = pipe(context, question=question, press=press, max_new_tokens=400)[\"answer\"]\n",
        "\n",
        "print(f\"Question:         {question}\")\n",
        "print(f\"Answer:           {true_answer}\")\n",
        "print(f\"Prediction w/ Q:  {pred_answer_with_question}\")\n",
        "print(f\"Prediction w/o Q: {pred_answer_without_question}\")"
      ]
    }
  ],
  "metadata": {
    "kernelspec": {
      "display_name": "Python 3",
      "name": "python3"
    },
    "language_info": {
      "codemirror_mode": {
        "name": "ipython",
        "version": 3
      },
      "file_extension": ".py",
      "mimetype": "text/x-python",
      "name": "python",
      "nbconvert_exporter": "python",
      "pygments_lexer": "ipython3",
      "version": "3.10.12"
    },
    "colab": {
      "provenance": [],
      "gpuType": "T4",
      "include_colab_link": true
    },
    "accelerator": "GPU"
  },
  "nbformat": 4,
  "nbformat_minor": 0
}